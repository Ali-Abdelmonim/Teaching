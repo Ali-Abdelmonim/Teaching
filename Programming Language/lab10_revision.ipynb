{
  "nbformat": 4,
  "nbformat_minor": 0,
  "metadata": {
    "colab": {
      "name": "lab10_revision.ipynb",
      "provenance": [],
      "authorship_tag": "ABX9TyNTb6qLsjTpefoPQkMsngN8",
      "include_colab_link": true
    },
    "kernelspec": {
      "name": "python3",
      "display_name": "Python 3"
    }
  },
  "cells": [
    {
      "cell_type": "markdown",
      "metadata": {
        "id": "view-in-github",
        "colab_type": "text"
      },
      "source": [
        "<a href=\"https://colab.research.google.com/github/Ali-Abdelmonim/Teaching/blob/master/Programming%20Language/lab10_revision.ipynb\" target=\"_parent\"><img src=\"https://colab.research.google.com/assets/colab-badge.svg\" alt=\"Open In Colab\"/></a>"
      ]
    },
    {
      "cell_type": "markdown",
      "metadata": {
        "id": "iYx8tUkDu4u4",
        "colab_type": "text"
      },
      "source": [
        "# Lists:"
      ]
    },
    {
      "cell_type": "markdown",
      "metadata": {
        "id": "PThrcC_rX21y",
        "colab_type": "text"
      },
      "source": [
        "What will the following Python code print out?\n",
        "\n",
        "\n",
        ">``` \n",
        "ls = [10, 20, 30]           \n",
        "print(len(ls))\n",
        "```"
      ]
    },
    {
      "cell_type": "markdown",
      "metadata": {
        "id": "89sSeLTea67u",
        "colab_type": "text"
      },
      "source": [
        "What will the following Python code print out?\n",
        "\n",
        "\n",
        ">``` \n",
        "ls = []           \n",
        "print(len(ls))\n",
        "```"
      ]
    },
    {
      "cell_type": "markdown",
      "metadata": {
        "id": "Q_a-edgcae2b",
        "colab_type": "text"
      },
      "source": [
        "What will the following Python code print out?\n",
        "\n",
        "\n",
        ">``` \n",
        "ls = ['CSB', 2.3, 5, [10, 20]]           \n",
        "print(len(ls))\n",
        "```\n",
        "\n",
        ">*    ['CSB', 2.3, 5, [10, 20]]\n",
        "*    6\n",
        "*    5\n",
        "*    4"
      ]
    },
    {
      "cell_type": "markdown",
      "metadata": {
        "id": "GMPI0FP-UrIJ",
        "colab_type": "text"
      },
      "source": [
        "For the following list, How would you print out \"Samy\"?\n",
        "\n",
        "\n",
        ">``` \n",
        "friends = [\"Mohamed\", \"Samy\", \"Hana\"]\n",
        "```\n",
        "\n",
        "\n",
        "\n",
        ">*   `print(friends['samy'])`\n",
        "*    `print(friends['Samy'])`\n",
        "*    `print(friends[2])`\n",
        "*    `print(friends[1])`\n"
      ]
    },
    {
      "cell_type": "markdown",
      "metadata": {
        "id": "7naV3O4BfRCS",
        "colab_type": "text"
      },
      "source": [
        "For the following list, How would you print out \"Hana\"?\n",
        "\n",
        "\n",
        ">``` \n",
        "friends = [\"Mohamed\", \"Samy\", \"Hana\"]\n",
        "```\n",
        "\n",
        "\n",
        "\n",
        ">*   `print(friends['hana'])`\n",
        "*    `print(friends['Hana'])`\n",
        "*    `print(friends[-1])`\n",
        "*    `print(friends[1])`\n"
      ]
    },
    {
      "cell_type": "markdown",
      "metadata": {
        "id": "fNdye25lcviu",
        "colab_type": "text"
      },
      "source": [
        "What will the following Python code print out?\n",
        "\n",
        "\n",
        ">``` \n",
        "numbers = [7, 77, 777]\n",
        "numbers[1] = 5\n",
        "print(numbers)\n",
        "```\n",
        "\n",
        ">*   [7, 77, 777]\n",
        "*    [5, 77, 777]\n",
        "*    [7, 5, 777]\n"
      ]
    },
    {
      "cell_type": "markdown",
      "metadata": {
        "colab_type": "text",
        "id": "zIy3i_z6f92y"
      },
      "source": [
        "What will the following Python code print out?\n",
        "\n",
        "\n",
        ">``` \n",
        "a = [1, 2, 3]\n",
        "b = [4, 5, 6]\n",
        "c = a + b\n",
        "print(len(c))\n",
        "```\n",
        "\n",
        ">*   [1, 2, 3, 4, 5, 6]\n",
        "*    5\n",
        "*    6\n",
        "*   21\n"
      ]
    },
    {
      "cell_type": "markdown",
      "metadata": {
        "colab_type": "text",
        "id": "shSrhbHogfOy"
      },
      "source": [
        "What will the following Python code print out?\n",
        "\n",
        "\n",
        ">``` \n",
        "a = [1, 2]\n",
        "b = a*3\n",
        "print(b)\n",
        "```\n",
        "\n",
        ">*   [3, 6]\n",
        "*    9\n",
        "*    [1, 2, 3]\n",
        "*   [1, 2, 1, 2, 1, 2]\n"
      ]
    },
    {
      "cell_type": "markdown",
      "metadata": {
        "colab_type": "text",
        "id": "4l5Enc2Ln4fz"
      },
      "source": [
        "What will the following Python code print out?\n",
        "\n",
        "\n",
        ">``` \n",
        "t1 = [3, 12, 23]\n",
        "t2 = [17, 27]\n",
        "t1.append(t2)\n",
        "print(t1)\n",
        "```\n",
        "\n",
        ">*   [17, 27]\n",
        "*    [3, 12, 23]\n",
        "*    [3, 12, 23, 17, 27]\n",
        "*   [3, 12, 23, [17, 27]]\n"
      ]
    },
    {
      "cell_type": "markdown",
      "metadata": {
        "colab_type": "text",
        "id": "2VoCFi_lofOf"
      },
      "source": [
        "What will the following Python code print out?\n",
        "\n",
        "\n",
        ">``` \n",
        "t1 = [3, 12, 23]\n",
        "t2 = [17, 27]\n",
        "t1.extend(t2)\n",
        "print(t1)\n",
        "```\n",
        "\n",
        ">*   [17, 27]\n",
        "*    [3, 12, 23]\n",
        "*    [3, 12, 23, 17, 27]\n",
        "*   [3, 12, 23, [17, 27]]\n"
      ]
    },
    {
      "cell_type": "markdown",
      "metadata": {
        "id": "SnlU2lMKYCJK",
        "colab_type": "text"
      },
      "source": [
        "Which of the following slicing operation will produce the list`['d', 'e']`?\n",
        "\n",
        ">``` \n",
        "t = ['a', 'b', 'c', 'd', 'e', 'f']\n",
        "```\n",
        "\n",
        ">*   `t['d', 'e']`\n",
        "*    `t[4:6]`\n",
        "*    `t[4:5]`\n",
        "*    `t[3:5]`\n",
        "*    `t[:]`"
      ]
    },
    {
      "cell_type": "markdown",
      "metadata": {
        "colab_type": "text",
        "id": "vYw_BbmjlYjG"
      },
      "source": [
        "Which of the following slicing operation will produce the list`['a', 'b', 'c', 'd', 'e', 'f']`?\n",
        "\n",
        ">``` \n",
        "t = ['a', 'b', 'c', 'd', 'e', 'f']\n",
        "```\n",
        "\n",
        ">*   `t['a', 'b', 'c', 'd', 'e', 'f']`\n",
        "*    `t[1:6]`\n",
        "*    `t[0:6]`\n",
        "*    `t[1:7]`\n",
        "*    `t[:]`"
      ]
    },
    {
      "cell_type": "code",
      "metadata": {
        "id": "hCcPxemcYRCe",
        "colab_type": "code",
        "colab": {}
      },
      "source": [
        ""
      ],
      "execution_count": 0,
      "outputs": []
    },
    {
      "cell_type": "markdown",
      "metadata": {
        "id": "9Hvo6mRLYYFx",
        "colab_type": "text"
      },
      "source": [
        "Which list method adds a new item to the end of an existing list?\n",
        "\n",
        "\n",
        "\n",
        ">*   `index()`\n",
        "*   `add()`\n",
        "*   `append()`\n",
        "*   `pop()`\n"
      ]
    },
    {
      "cell_type": "code",
      "metadata": {
        "id": "8hL_nkAEY0Sn",
        "colab_type": "code",
        "colab": {}
      },
      "source": [
        ""
      ],
      "execution_count": 0,
      "outputs": []
    },
    {
      "cell_type": "markdown",
      "metadata": {
        "colab_type": "text",
        "id": "l97eCEZLo1KR"
      },
      "source": [
        "What will the following Python code print out?\n",
        "\n",
        "\n",
        ">``` \n",
        "friends = [\"Mohamed\", \"Samy\", \"Hana\"]\n",
        "friends.sort()\n",
        "print(friends[0])\n",
        "```\n",
        "\n",
        "\n",
        "\n",
        ">*   friends\n",
        "*    Hana\n",
        "*    Samy\n",
        "*    Mohamed\n"
      ]
    },
    {
      "cell_type": "markdown",
      "metadata": {
        "id": "EYEozplaqHmO",
        "colab_type": "text"
      },
      "source": [
        "What will the following Python code print out?\n",
        "\n",
        "\n",
        ">``` \n",
        "t = ['a', 'b', 'c']\n",
        "t.pop()\n",
        "print(t)\n",
        "```\n",
        "\n",
        "\n",
        "\n",
        ">*   `['a', 'b', 'c']`\n",
        "*    `['b', 'c']`\n",
        "*    `['a', 'b']`\n",
        "*    `['a', 'c']`"
      ]
    },
    {
      "cell_type": "code",
      "metadata": {
        "id": "A6dYlPMso7lB",
        "colab_type": "code",
        "colab": {}
      },
      "source": [
        ""
      ],
      "execution_count": 0,
      "outputs": []
    },
    {
      "cell_type": "markdown",
      "metadata": {
        "colab_type": "text",
        "id": "BPbJwVIorL_Q"
      },
      "source": [
        "What will the following Python code print out?\n",
        "\n",
        "\n",
        ">``` \n",
        "t = ['a', 'b', 'c']\n",
        "t.pop(1)\n",
        "print(t)\n",
        "```\n",
        "\n",
        "\n",
        "\n",
        ">*   `['a', 'b', 'c']`\n",
        "*    `['b', 'c']`\n",
        "*    `['a', 'b']`\n",
        "*    `['a', 'c']`"
      ]
    },
    {
      "cell_type": "code",
      "metadata": {
        "id": "bA7eelWbrQly",
        "colab_type": "code",
        "colab": {}
      },
      "source": [
        ""
      ],
      "execution_count": 0,
      "outputs": []
    },
    {
      "cell_type": "markdown",
      "metadata": {
        "colab_type": "text",
        "id": "bbX66wMDrYXi"
      },
      "source": [
        "For the following list, How would you delete `'b'` ?\n",
        ">```\n",
        "t = ['a', 'b', 'c']`?\n",
        "```\n",
        "\n",
        "\n",
        ">*   `t.del('b')`\n",
        "*    `t.remove('b')`\n",
        "*    `t.pop('b')`"
      ]
    },
    {
      "cell_type": "markdown",
      "metadata": {
        "colab_type": "text",
        "id": "MWtadV3SsvJ2"
      },
      "source": [
        "What will the following Python code print out?\n",
        "\n",
        "\n",
        ">``` \n",
        "friends = ['Salah', 'Jana', 'Salah', 'Ahmed']\n",
        "friends.remove('Salah')\n",
        "print(friends)\n",
        "```\n",
        "\n",
        "\n",
        "\n",
        ">*   `['Salah', 'Jana', 'Salah', 'Ahmed']`\n",
        "*    `['Jana', 'Ahmed']`\n",
        "*    `['Salah', 'Jana', 'Ahmed']`\n",
        "*    `['Jana', 'Salah', 'Ahmed']`"
      ]
    },
    {
      "cell_type": "code",
      "metadata": {
        "id": "Zg-XDZ5hsARb",
        "colab_type": "code",
        "colab": {}
      },
      "source": [
        ""
      ],
      "execution_count": 0,
      "outputs": []
    }
  ]
}