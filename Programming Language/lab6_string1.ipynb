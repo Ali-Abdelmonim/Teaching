{
  "nbformat": 4,
  "nbformat_minor": 0,
  "metadata": {
    "colab": {
      "name": "lab6:string1.ipynb",
      "provenance": [],
      "toc_visible": true,
      "authorship_tag": "ABX9TyMx614CWjT26/TBYqQAEP6F",
      "include_colab_link": true
    },
    "kernelspec": {
      "name": "python3",
      "display_name": "Python 3"
    }
  },
  "cells": [
    {
      "cell_type": "markdown",
      "metadata": {
        "id": "view-in-github",
        "colab_type": "text"
      },
      "source": [
        "<a href=\"https://colab.research.google.com/github/Ali-Abdelmonim/Teaching/blob/master/Programming%20Language/lab6_string1.ipynb\" target=\"_parent\"><img src=\"https://colab.research.google.com/assets/colab-badge.svg\" alt=\"Open In Colab\"/></a>"
      ]
    },
    {
      "cell_type": "markdown",
      "metadata": {
        "id": "3uHXiMVVhm1s",
        "colab_type": "text"
      },
      "source": [
        "### A string is a sequence"
      ]
    },
    {
      "cell_type": "markdown",
      "metadata": {
        "id": "i-3Lrx10kkIM",
        "colab_type": "text"
      },
      "source": [
        "A string is a sequence of characters. You can access the characters one at a time with the bracket operator:"
      ]
    },
    {
      "cell_type": "code",
      "metadata": {
        "id": "BSkrrMgLki_t",
        "colab_type": "code",
        "colab": {
          "base_uri": "https://localhost:8080/",
          "height": 34
        },
        "outputId": "699a3ab4-2c5c-41a6-bfbb-272090bb3952"
      },
      "source": [
        "fruit = 'banana'\n",
        "fruit[1]"
      ],
      "execution_count": 1,
      "outputs": [
        {
          "output_type": "execute_result",
          "data": {
            "text/plain": [
              "'a'"
            ]
          },
          "metadata": {
            "tags": []
          },
          "execution_count": 1
        }
      ]
    },
    {
      "cell_type": "code",
      "metadata": {
        "id": "glUnZ8-gk4wg",
        "colab_type": "code",
        "colab": {}
      },
      "source": [
        ""
      ],
      "execution_count": 0,
      "outputs": []
    },
    {
      "cell_type": "markdown",
      "metadata": {
        "id": "PqLWlknSisri",
        "colab_type": "text"
      },
      "source": [
        "### Traversal through a string with a loop"
      ]
    },
    {
      "cell_type": "code",
      "metadata": {
        "id": "fKs0r0Ljk6_9",
        "colab_type": "code",
        "colab": {}
      },
      "source": [
        ""
      ],
      "execution_count": 0,
      "outputs": []
    },
    {
      "cell_type": "markdown",
      "metadata": {
        "id": "Is32JnfnhyVX",
        "colab_type": "text"
      },
      "source": [
        "### Getting the length of a string using len"
      ]
    },
    {
      "cell_type": "markdown",
      "metadata": {
        "id": "HxRZD9UHleOO",
        "colab_type": "text"
      },
      "source": [
        "len is a built-in function that returns the number of characters in a string:"
      ]
    },
    {
      "cell_type": "code",
      "metadata": {
        "id": "myOISXLVldE9",
        "colab_type": "code",
        "colab": {}
      },
      "source": [
        "fruit = 'banana'\n",
        "len(fruit)"
      ],
      "execution_count": 0,
      "outputs": []
    },
    {
      "cell_type": "markdown",
      "metadata": {
        "id": "i8l49qlxlrUl",
        "colab_type": "text"
      },
      "source": [
        "To get the last letter of a string, you might be tempted to try something like this:"
      ]
    },
    {
      "cell_type": "code",
      "metadata": {
        "id": "2Gtt1W02lpYr",
        "colab_type": "code",
        "colab": {}
      },
      "source": [
        "length = len(fruit)\n",
        "last = fruit[length]"
      ],
      "execution_count": 0,
      "outputs": []
    },
    {
      "cell_type": "markdown",
      "metadata": {
        "id": "kzJec9bXl--0",
        "colab_type": "text"
      },
      "source": [
        "The reason for the IndexError is that there is no letter in 'banana' with the index 6. Since we started counting at zero, the six letters are numbered 0 to 5. To get the last character, you have to subtract 1 from length:"
      ]
    },
    {
      "cell_type": "code",
      "metadata": {
        "id": "b00g3Lx1l0k4",
        "colab_type": "code",
        "colab": {}
      },
      "source": [
        "index = 0\n",
        "while index < len(fruit):\n",
        "    letter = fruit[index]\n",
        "    print(letter)\n",
        "    index = index + 1"
      ],
      "execution_count": 0,
      "outputs": []
    },
    {
      "cell_type": "markdown",
      "metadata": {
        "id": "OF52ipdXmbB9",
        "colab_type": "text"
      },
      "source": [
        "Another way to write a traversal is with a for loop:"
      ]
    },
    {
      "cell_type": "code",
      "metadata": {
        "id": "xW99DoM0mVkj",
        "colab_type": "code",
        "outputId": "5eccbf62-aa5a-4113-ac50-2fdb3077d36d",
        "colab": {
          "base_uri": "https://localhost:8080/",
          "height": 118
        }
      },
      "source": [
        "for char in fruit:\n",
        "    print(char)"
      ],
      "execution_count": 0,
      "outputs": [
        {
          "output_type": "stream",
          "text": [
            "b\n",
            "a\n",
            "n\n",
            "a\n",
            "n\n",
            "a\n"
          ],
          "name": "stdout"
        }
      ]
    },
    {
      "cell_type": "markdown",
      "metadata": {
        "id": "ueNuAbuKhVJW",
        "colab_type": "text"
      },
      "source": [
        "### Looping and Counting"
      ]
    },
    {
      "cell_type": "markdown",
      "metadata": {
        "id": "HgA9owRQuXIn",
        "colab_type": "text"
      },
      "source": [
        "The following program counts the number of times the letter a appears in a string:"
      ]
    },
    {
      "cell_type": "code",
      "metadata": {
        "id": "pAypN91HuV7W",
        "colab_type": "code",
        "colab": {}
      },
      "source": [
        "word = 'banana'\n",
        "count = 0\n",
        "for letter in word:\n",
        "    if letter == 'a':\n",
        "        count = count + 1\n",
        "print(count)"
      ],
      "execution_count": 0,
      "outputs": []
    },
    {
      "cell_type": "markdown",
      "metadata": {
        "id": "XbuvJ6Rih8Dh",
        "colab_type": "text"
      },
      "source": [
        "### Exercises"
      ]
    },
    {
      "cell_type": "code",
      "metadata": {
        "id": "fMryjZCAufPu",
        "colab_type": "code",
        "colab": {}
      },
      "source": [
        ""
      ],
      "execution_count": 0,
      "outputs": []
    }
  ]
}